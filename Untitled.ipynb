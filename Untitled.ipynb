{
 "cells": [
  {
   "cell_type": "code",
   "execution_count": 1,
   "id": "c6b757c6-9daf-47c6-a879-ee0f43e7bf28",
   "metadata": {},
   "outputs": [],
   "source": [
    "import pandas as pd"
   ]
  },
  {
   "cell_type": "markdown",
   "id": "647fbad5-32e6-4b66-b3ca-e7a06a7e7e9b",
   "metadata": {},
   "source": [
    "### Explore the Data to aplly DataWarehouse"
   ]
  },
  {
   "cell_type": "code",
   "execution_count": 2,
   "id": "2f1b26b3-2342-4dd7-b9ea-b41e49d47b4e",
   "metadata": {},
   "outputs": [],
   "source": [
    "df=pd.read_csv('./datasets/source_crm/prd_info.csv')"
   ]
  },
  {
   "cell_type": "code",
   "execution_count": 3,
   "id": "82d52c9c-f6e1-41a9-97ac-054294728769",
   "metadata": {},
   "outputs": [
    {
     "data": {
      "text/html": [
       "<div>\n",
       "<style scoped>\n",
       "    .dataframe tbody tr th:only-of-type {\n",
       "        vertical-align: middle;\n",
       "    }\n",
       "\n",
       "    .dataframe tbody tr th {\n",
       "        vertical-align: top;\n",
       "    }\n",
       "\n",
       "    .dataframe thead th {\n",
       "        text-align: right;\n",
       "    }\n",
       "</style>\n",
       "<table border=\"1\" class=\"dataframe\">\n",
       "  <thead>\n",
       "    <tr style=\"text-align: right;\">\n",
       "      <th></th>\n",
       "      <th>prd_id</th>\n",
       "      <th>prd_key</th>\n",
       "      <th>prd_nm</th>\n",
       "      <th>prd_cost</th>\n",
       "      <th>prd_line</th>\n",
       "      <th>prd_start_dt</th>\n",
       "      <th>prd_end_dt</th>\n",
       "    </tr>\n",
       "  </thead>\n",
       "  <tbody>\n",
       "    <tr>\n",
       "      <th>0</th>\n",
       "      <td>210</td>\n",
       "      <td>CO-RF-FR-R92B-58</td>\n",
       "      <td>HL Road Frame - Black- 58</td>\n",
       "      <td>NaN</td>\n",
       "      <td>R</td>\n",
       "      <td>2003-07-01</td>\n",
       "      <td>NaN</td>\n",
       "    </tr>\n",
       "    <tr>\n",
       "      <th>1</th>\n",
       "      <td>211</td>\n",
       "      <td>CO-RF-FR-R92R-58</td>\n",
       "      <td>HL Road Frame - Red- 58</td>\n",
       "      <td>NaN</td>\n",
       "      <td>R</td>\n",
       "      <td>2003-07-01</td>\n",
       "      <td>NaN</td>\n",
       "    </tr>\n",
       "    <tr>\n",
       "      <th>2</th>\n",
       "      <td>212</td>\n",
       "      <td>AC-HE-HL-U509-R</td>\n",
       "      <td>Sport-100 Helmet- Red</td>\n",
       "      <td>12.0</td>\n",
       "      <td>S</td>\n",
       "      <td>2011-07-01</td>\n",
       "      <td>2007-12-28</td>\n",
       "    </tr>\n",
       "    <tr>\n",
       "      <th>3</th>\n",
       "      <td>213</td>\n",
       "      <td>AC-HE-HL-U509-R</td>\n",
       "      <td>Sport-100 Helmet- Red</td>\n",
       "      <td>14.0</td>\n",
       "      <td>S</td>\n",
       "      <td>2012-07-01</td>\n",
       "      <td>2008-12-27</td>\n",
       "    </tr>\n",
       "    <tr>\n",
       "      <th>4</th>\n",
       "      <td>214</td>\n",
       "      <td>AC-HE-HL-U509-R</td>\n",
       "      <td>Sport-100 Helmet- Red</td>\n",
       "      <td>13.0</td>\n",
       "      <td>S</td>\n",
       "      <td>2013-07-01</td>\n",
       "      <td>NaN</td>\n",
       "    </tr>\n",
       "  </tbody>\n",
       "</table>\n",
       "</div>"
      ],
      "text/plain": [
       "   prd_id           prd_key                     prd_nm  prd_cost prd_line  \\\n",
       "0     210  CO-RF-FR-R92B-58  HL Road Frame - Black- 58       NaN       R    \n",
       "1     211  CO-RF-FR-R92R-58    HL Road Frame - Red- 58       NaN       R    \n",
       "2     212   AC-HE-HL-U509-R      Sport-100 Helmet- Red      12.0       S    \n",
       "3     213   AC-HE-HL-U509-R      Sport-100 Helmet- Red      14.0       S    \n",
       "4     214   AC-HE-HL-U509-R      Sport-100 Helmet- Red      13.0       S    \n",
       "\n",
       "  prd_start_dt  prd_end_dt  \n",
       "0   2003-07-01         NaN  \n",
       "1   2003-07-01         NaN  \n",
       "2   2011-07-01  2007-12-28  \n",
       "3   2012-07-01  2008-12-27  \n",
       "4   2013-07-01         NaN  "
      ]
     },
     "execution_count": 3,
     "metadata": {},
     "output_type": "execute_result"
    }
   ],
   "source": [
    "df.head()\n"
   ]
  },
  {
   "cell_type": "code",
   "execution_count": 4,
   "id": "c91f510f-09e3-4878-a4bf-0d7d09002cb5",
   "metadata": {},
   "outputs": [
    {
     "name": "stdout",
     "output_type": "stream",
     "text": [
      "<class 'pandas.core.frame.DataFrame'>\n",
      "RangeIndex: 397 entries, 0 to 396\n",
      "Data columns (total 7 columns):\n",
      " #   Column        Non-Null Count  Dtype  \n",
      "---  ------        --------------  -----  \n",
      " 0   prd_id        397 non-null    int64  \n",
      " 1   prd_key       397 non-null    object \n",
      " 2   prd_nm        397 non-null    object \n",
      " 3   prd_cost      395 non-null    float64\n",
      " 4   prd_line      380 non-null    object \n",
      " 5   prd_start_dt  397 non-null    object \n",
      " 6   prd_end_dt    200 non-null    object \n",
      "dtypes: float64(1), int64(1), object(5)\n",
      "memory usage: 21.8+ KB\n"
     ]
    }
   ],
   "source": [
    "df.info()"
   ]
  },
  {
   "cell_type": "code",
   "execution_count": 5,
   "id": "636c938c-6e31-41a1-9747-c725c42a6258",
   "metadata": {},
   "outputs": [],
   "source": [
    "df=pd.read_csv('./datasets/source_crm/sales_details.csv')"
   ]
  },
  {
   "cell_type": "code",
   "execution_count": 6,
   "id": "ec1623d9-0a91-4e55-b922-ae4677af8753",
   "metadata": {},
   "outputs": [
    {
     "data": {
      "text/html": [
       "<div>\n",
       "<style scoped>\n",
       "    .dataframe tbody tr th:only-of-type {\n",
       "        vertical-align: middle;\n",
       "    }\n",
       "\n",
       "    .dataframe tbody tr th {\n",
       "        vertical-align: top;\n",
       "    }\n",
       "\n",
       "    .dataframe thead th {\n",
       "        text-align: right;\n",
       "    }\n",
       "</style>\n",
       "<table border=\"1\" class=\"dataframe\">\n",
       "  <thead>\n",
       "    <tr style=\"text-align: right;\">\n",
       "      <th></th>\n",
       "      <th>sls_ord_num</th>\n",
       "      <th>sls_prd_key</th>\n",
       "      <th>sls_cust_id</th>\n",
       "      <th>sls_order_dt</th>\n",
       "      <th>sls_ship_dt</th>\n",
       "      <th>sls_due_dt</th>\n",
       "      <th>sls_sales</th>\n",
       "      <th>sls_quantity</th>\n",
       "      <th>sls_price</th>\n",
       "    </tr>\n",
       "  </thead>\n",
       "  <tbody>\n",
       "    <tr>\n",
       "      <th>0</th>\n",
       "      <td>SO43697</td>\n",
       "      <td>BK-R93R-62</td>\n",
       "      <td>21768</td>\n",
       "      <td>20101229</td>\n",
       "      <td>20110105</td>\n",
       "      <td>20110110</td>\n",
       "      <td>3578.0</td>\n",
       "      <td>1</td>\n",
       "      <td>3578.0</td>\n",
       "    </tr>\n",
       "    <tr>\n",
       "      <th>1</th>\n",
       "      <td>SO43698</td>\n",
       "      <td>BK-M82S-44</td>\n",
       "      <td>28389</td>\n",
       "      <td>20101229</td>\n",
       "      <td>20110105</td>\n",
       "      <td>20110110</td>\n",
       "      <td>3400.0</td>\n",
       "      <td>1</td>\n",
       "      <td>3400.0</td>\n",
       "    </tr>\n",
       "    <tr>\n",
       "      <th>2</th>\n",
       "      <td>SO43699</td>\n",
       "      <td>BK-M82S-44</td>\n",
       "      <td>25863</td>\n",
       "      <td>20101229</td>\n",
       "      <td>20110105</td>\n",
       "      <td>20110110</td>\n",
       "      <td>3400.0</td>\n",
       "      <td>1</td>\n",
       "      <td>3400.0</td>\n",
       "    </tr>\n",
       "    <tr>\n",
       "      <th>3</th>\n",
       "      <td>SO43700</td>\n",
       "      <td>BK-R50B-62</td>\n",
       "      <td>14501</td>\n",
       "      <td>20101229</td>\n",
       "      <td>20110105</td>\n",
       "      <td>20110110</td>\n",
       "      <td>699.0</td>\n",
       "      <td>1</td>\n",
       "      <td>699.0</td>\n",
       "    </tr>\n",
       "    <tr>\n",
       "      <th>4</th>\n",
       "      <td>SO43701</td>\n",
       "      <td>BK-M82S-44</td>\n",
       "      <td>11003</td>\n",
       "      <td>20101229</td>\n",
       "      <td>20110105</td>\n",
       "      <td>20110110</td>\n",
       "      <td>3400.0</td>\n",
       "      <td>1</td>\n",
       "      <td>3400.0</td>\n",
       "    </tr>\n",
       "  </tbody>\n",
       "</table>\n",
       "</div>"
      ],
      "text/plain": [
       "  sls_ord_num sls_prd_key  sls_cust_id  sls_order_dt  sls_ship_dt  sls_due_dt  \\\n",
       "0     SO43697  BK-R93R-62        21768      20101229     20110105    20110110   \n",
       "1     SO43698  BK-M82S-44        28389      20101229     20110105    20110110   \n",
       "2     SO43699  BK-M82S-44        25863      20101229     20110105    20110110   \n",
       "3     SO43700  BK-R50B-62        14501      20101229     20110105    20110110   \n",
       "4     SO43701  BK-M82S-44        11003      20101229     20110105    20110110   \n",
       "\n",
       "   sls_sales  sls_quantity  sls_price  \n",
       "0     3578.0             1     3578.0  \n",
       "1     3400.0             1     3400.0  \n",
       "2     3400.0             1     3400.0  \n",
       "3      699.0             1      699.0  \n",
       "4     3400.0             1     3400.0  "
      ]
     },
     "execution_count": 6,
     "metadata": {},
     "output_type": "execute_result"
    }
   ],
   "source": [
    "df.head()"
   ]
  },
  {
   "cell_type": "code",
   "execution_count": 7,
   "id": "686880b6-5f71-465a-8816-085a12e4caff",
   "metadata": {},
   "outputs": [
    {
     "name": "stdout",
     "output_type": "stream",
     "text": [
      "<class 'pandas.core.frame.DataFrame'>\n",
      "RangeIndex: 60398 entries, 0 to 60397\n",
      "Data columns (total 9 columns):\n",
      " #   Column        Non-Null Count  Dtype  \n",
      "---  ------        --------------  -----  \n",
      " 0   sls_ord_num   60398 non-null  object \n",
      " 1   sls_prd_key   60398 non-null  object \n",
      " 2   sls_cust_id   60398 non-null  int64  \n",
      " 3   sls_order_dt  60398 non-null  int64  \n",
      " 4   sls_ship_dt   60398 non-null  int64  \n",
      " 5   sls_due_dt    60398 non-null  int64  \n",
      " 6   sls_sales     60390 non-null  float64\n",
      " 7   sls_quantity  60398 non-null  int64  \n",
      " 8   sls_price     60391 non-null  float64\n",
      "dtypes: float64(2), int64(5), object(2)\n",
      "memory usage: 4.1+ MB\n"
     ]
    }
   ],
   "source": [
    "df.info()"
   ]
  },
  {
   "cell_type": "code",
   "execution_count": 8,
   "id": "60380218-bf75-4545-997e-b08ab8a20b21",
   "metadata": {},
   "outputs": [],
   "source": [
    "df=pd.read_csv('./datasets/source_erp/CUST_AZ12.csv')"
   ]
  },
  {
   "cell_type": "code",
   "execution_count": 9,
   "id": "6603ca02-fb44-4e7b-918f-dea676d12341",
   "metadata": {},
   "outputs": [
    {
     "data": {
      "text/html": [
       "<div>\n",
       "<style scoped>\n",
       "    .dataframe tbody tr th:only-of-type {\n",
       "        vertical-align: middle;\n",
       "    }\n",
       "\n",
       "    .dataframe tbody tr th {\n",
       "        vertical-align: top;\n",
       "    }\n",
       "\n",
       "    .dataframe thead th {\n",
       "        text-align: right;\n",
       "    }\n",
       "</style>\n",
       "<table border=\"1\" class=\"dataframe\">\n",
       "  <thead>\n",
       "    <tr style=\"text-align: right;\">\n",
       "      <th></th>\n",
       "      <th>CID</th>\n",
       "      <th>BDATE</th>\n",
       "      <th>GEN</th>\n",
       "    </tr>\n",
       "  </thead>\n",
       "  <tbody>\n",
       "    <tr>\n",
       "      <th>0</th>\n",
       "      <td>NASAW00011000</td>\n",
       "      <td>1971-10-06</td>\n",
       "      <td>Male</td>\n",
       "    </tr>\n",
       "    <tr>\n",
       "      <th>1</th>\n",
       "      <td>NASAW00011001</td>\n",
       "      <td>1976-05-10</td>\n",
       "      <td>Male</td>\n",
       "    </tr>\n",
       "    <tr>\n",
       "      <th>2</th>\n",
       "      <td>NASAW00011002</td>\n",
       "      <td>1971-02-09</td>\n",
       "      <td>Male</td>\n",
       "    </tr>\n",
       "    <tr>\n",
       "      <th>3</th>\n",
       "      <td>NASAW00011003</td>\n",
       "      <td>1973-08-14</td>\n",
       "      <td>Female</td>\n",
       "    </tr>\n",
       "    <tr>\n",
       "      <th>4</th>\n",
       "      <td>NASAW00011004</td>\n",
       "      <td>1979-08-05</td>\n",
       "      <td>Female</td>\n",
       "    </tr>\n",
       "  </tbody>\n",
       "</table>\n",
       "</div>"
      ],
      "text/plain": [
       "             CID       BDATE     GEN\n",
       "0  NASAW00011000  1971-10-06    Male\n",
       "1  NASAW00011001  1976-05-10    Male\n",
       "2  NASAW00011002  1971-02-09    Male\n",
       "3  NASAW00011003  1973-08-14  Female\n",
       "4  NASAW00011004  1979-08-05  Female"
      ]
     },
     "execution_count": 9,
     "metadata": {},
     "output_type": "execute_result"
    }
   ],
   "source": [
    "df.head()"
   ]
  },
  {
   "cell_type": "code",
   "execution_count": 10,
   "id": "1dc6874b-e7a9-4878-becf-46e0956d0e5e",
   "metadata": {},
   "outputs": [
    {
     "name": "stdout",
     "output_type": "stream",
     "text": [
      "<class 'pandas.core.frame.DataFrame'>\n",
      "RangeIndex: 18484 entries, 0 to 18483\n",
      "Data columns (total 3 columns):\n",
      " #   Column  Non-Null Count  Dtype \n",
      "---  ------  --------------  ----- \n",
      " 0   CID     18484 non-null  object\n",
      " 1   BDATE   18484 non-null  object\n",
      " 2   GEN     17012 non-null  object\n",
      "dtypes: object(3)\n",
      "memory usage: 433.3+ KB\n"
     ]
    }
   ],
   "source": [
    "df.info()"
   ]
  },
  {
   "cell_type": "code",
   "execution_count": 11,
   "id": "132852d4-3119-4a8c-8ffc-c824cb1ea20d",
   "metadata": {},
   "outputs": [],
   "source": [
    "df=pd.read_csv('./datasets/source_erp/LOC_A101.csv')"
   ]
  },
  {
   "cell_type": "code",
   "execution_count": 12,
   "id": "a2fa2723-ce41-4da7-ad59-406e15a65a3e",
   "metadata": {},
   "outputs": [
    {
     "data": {
      "text/html": [
       "<div>\n",
       "<style scoped>\n",
       "    .dataframe tbody tr th:only-of-type {\n",
       "        vertical-align: middle;\n",
       "    }\n",
       "\n",
       "    .dataframe tbody tr th {\n",
       "        vertical-align: top;\n",
       "    }\n",
       "\n",
       "    .dataframe thead th {\n",
       "        text-align: right;\n",
       "    }\n",
       "</style>\n",
       "<table border=\"1\" class=\"dataframe\">\n",
       "  <thead>\n",
       "    <tr style=\"text-align: right;\">\n",
       "      <th></th>\n",
       "      <th>CID</th>\n",
       "      <th>CNTRY</th>\n",
       "    </tr>\n",
       "  </thead>\n",
       "  <tbody>\n",
       "    <tr>\n",
       "      <th>0</th>\n",
       "      <td>AW-00011000</td>\n",
       "      <td>Australia</td>\n",
       "    </tr>\n",
       "    <tr>\n",
       "      <th>1</th>\n",
       "      <td>AW-00011001</td>\n",
       "      <td>Australia</td>\n",
       "    </tr>\n",
       "    <tr>\n",
       "      <th>2</th>\n",
       "      <td>AW-00011002</td>\n",
       "      <td>Australia</td>\n",
       "    </tr>\n",
       "    <tr>\n",
       "      <th>3</th>\n",
       "      <td>AW-00011003</td>\n",
       "      <td>Australia</td>\n",
       "    </tr>\n",
       "    <tr>\n",
       "      <th>4</th>\n",
       "      <td>AW-00011004</td>\n",
       "      <td>Australia</td>\n",
       "    </tr>\n",
       "  </tbody>\n",
       "</table>\n",
       "</div>"
      ],
      "text/plain": [
       "           CID      CNTRY\n",
       "0  AW-00011000  Australia\n",
       "1  AW-00011001  Australia\n",
       "2  AW-00011002  Australia\n",
       "3  AW-00011003  Australia\n",
       "4  AW-00011004  Australia"
      ]
     },
     "execution_count": 12,
     "metadata": {},
     "output_type": "execute_result"
    }
   ],
   "source": [
    "df.head()"
   ]
  },
  {
   "cell_type": "code",
   "execution_count": 13,
   "id": "7d7e1e34-7d77-48bd-8799-0865905ce282",
   "metadata": {},
   "outputs": [
    {
     "name": "stdout",
     "output_type": "stream",
     "text": [
      "<class 'pandas.core.frame.DataFrame'>\n",
      "RangeIndex: 18484 entries, 0 to 18483\n",
      "Data columns (total 2 columns):\n",
      " #   Column  Non-Null Count  Dtype \n",
      "---  ------  --------------  ----- \n",
      " 0   CID     18484 non-null  object\n",
      " 1   CNTRY   18152 non-null  object\n",
      "dtypes: object(2)\n",
      "memory usage: 288.9+ KB\n"
     ]
    }
   ],
   "source": [
    "df.info()"
   ]
  },
  {
   "cell_type": "code",
   "execution_count": 14,
   "id": "135561bd-4819-4560-ba63-9f4f6a295173",
   "metadata": {},
   "outputs": [],
   "source": [
    "df=pd.read_csv('./datasets/source_erp/PX_CAT_G1V2.csv')"
   ]
  },
  {
   "cell_type": "code",
   "execution_count": 15,
   "id": "eb525a26-5f3b-461b-bee2-38faf5b07fd9",
   "metadata": {},
   "outputs": [
    {
     "data": {
      "text/html": [
       "<div>\n",
       "<style scoped>\n",
       "    .dataframe tbody tr th:only-of-type {\n",
       "        vertical-align: middle;\n",
       "    }\n",
       "\n",
       "    .dataframe tbody tr th {\n",
       "        vertical-align: top;\n",
       "    }\n",
       "\n",
       "    .dataframe thead th {\n",
       "        text-align: right;\n",
       "    }\n",
       "</style>\n",
       "<table border=\"1\" class=\"dataframe\">\n",
       "  <thead>\n",
       "    <tr style=\"text-align: right;\">\n",
       "      <th></th>\n",
       "      <th>ID</th>\n",
       "      <th>CAT</th>\n",
       "      <th>SUBCAT</th>\n",
       "      <th>MAINTENANCE</th>\n",
       "    </tr>\n",
       "  </thead>\n",
       "  <tbody>\n",
       "    <tr>\n",
       "      <th>0</th>\n",
       "      <td>AC_BR</td>\n",
       "      <td>Accessories</td>\n",
       "      <td>Bike Racks</td>\n",
       "      <td>Yes</td>\n",
       "    </tr>\n",
       "    <tr>\n",
       "      <th>1</th>\n",
       "      <td>AC_BS</td>\n",
       "      <td>Accessories</td>\n",
       "      <td>Bike Stands</td>\n",
       "      <td>No</td>\n",
       "    </tr>\n",
       "    <tr>\n",
       "      <th>2</th>\n",
       "      <td>AC_BC</td>\n",
       "      <td>Accessories</td>\n",
       "      <td>Bottles and Cages</td>\n",
       "      <td>No</td>\n",
       "    </tr>\n",
       "    <tr>\n",
       "      <th>3</th>\n",
       "      <td>AC_CL</td>\n",
       "      <td>Accessories</td>\n",
       "      <td>Cleaners</td>\n",
       "      <td>Yes</td>\n",
       "    </tr>\n",
       "    <tr>\n",
       "      <th>4</th>\n",
       "      <td>AC_FE</td>\n",
       "      <td>Accessories</td>\n",
       "      <td>Fenders</td>\n",
       "      <td>No</td>\n",
       "    </tr>\n",
       "  </tbody>\n",
       "</table>\n",
       "</div>"
      ],
      "text/plain": [
       "      ID          CAT             SUBCAT MAINTENANCE\n",
       "0  AC_BR  Accessories         Bike Racks         Yes\n",
       "1  AC_BS  Accessories        Bike Stands          No\n",
       "2  AC_BC  Accessories  Bottles and Cages          No\n",
       "3  AC_CL  Accessories           Cleaners         Yes\n",
       "4  AC_FE  Accessories            Fenders          No"
      ]
     },
     "execution_count": 15,
     "metadata": {},
     "output_type": "execute_result"
    }
   ],
   "source": [
    "df.head()"
   ]
  },
  {
   "cell_type": "code",
   "execution_count": 16,
   "id": "f611499e-54d2-4446-a01b-8ca8c04a562a",
   "metadata": {},
   "outputs": [
    {
     "name": "stdout",
     "output_type": "stream",
     "text": [
      "<class 'pandas.core.frame.DataFrame'>\n",
      "RangeIndex: 37 entries, 0 to 36\n",
      "Data columns (total 4 columns):\n",
      " #   Column       Non-Null Count  Dtype \n",
      "---  ------       --------------  ----- \n",
      " 0   ID           37 non-null     object\n",
      " 1   CAT          37 non-null     object\n",
      " 2   SUBCAT       37 non-null     object\n",
      " 3   MAINTENANCE  37 non-null     object\n",
      "dtypes: object(4)\n",
      "memory usage: 1.3+ KB\n"
     ]
    }
   ],
   "source": [
    "df.info()"
   ]
  },
  {
   "cell_type": "code",
   "execution_count": 17,
   "id": "23498431-c69f-4135-af30-1b96a4dea081",
   "metadata": {},
   "outputs": [],
   "source": [
    "df=pd.read_csv('./datasets/source_crm/cust_info.csv')"
   ]
  },
  {
   "cell_type": "code",
   "execution_count": 18,
   "id": "84de0a6e-2d7e-484b-802b-74121b16cf74",
   "metadata": {},
   "outputs": [
    {
     "data": {
      "text/html": [
       "<div>\n",
       "<style scoped>\n",
       "    .dataframe tbody tr th:only-of-type {\n",
       "        vertical-align: middle;\n",
       "    }\n",
       "\n",
       "    .dataframe tbody tr th {\n",
       "        vertical-align: top;\n",
       "    }\n",
       "\n",
       "    .dataframe thead th {\n",
       "        text-align: right;\n",
       "    }\n",
       "</style>\n",
       "<table border=\"1\" class=\"dataframe\">\n",
       "  <thead>\n",
       "    <tr style=\"text-align: right;\">\n",
       "      <th></th>\n",
       "      <th>cst_id</th>\n",
       "      <th>cst_key</th>\n",
       "      <th>cst_firstname</th>\n",
       "      <th>cst_lastname</th>\n",
       "      <th>cst_marital_status</th>\n",
       "      <th>cst_gndr</th>\n",
       "      <th>cst_create_date</th>\n",
       "    </tr>\n",
       "  </thead>\n",
       "  <tbody>\n",
       "    <tr>\n",
       "      <th>0</th>\n",
       "      <td>11000.0</td>\n",
       "      <td>AW00011000</td>\n",
       "      <td>Jon</td>\n",
       "      <td>Yang</td>\n",
       "      <td>M</td>\n",
       "      <td>M</td>\n",
       "      <td>2025-10-06</td>\n",
       "    </tr>\n",
       "    <tr>\n",
       "      <th>1</th>\n",
       "      <td>11001.0</td>\n",
       "      <td>AW00011001</td>\n",
       "      <td>Eugene</td>\n",
       "      <td>Huang</td>\n",
       "      <td>S</td>\n",
       "      <td>M</td>\n",
       "      <td>2025-10-06</td>\n",
       "    </tr>\n",
       "    <tr>\n",
       "      <th>2</th>\n",
       "      <td>11002.0</td>\n",
       "      <td>AW00011002</td>\n",
       "      <td>Ruben</td>\n",
       "      <td>Torres</td>\n",
       "      <td>M</td>\n",
       "      <td>M</td>\n",
       "      <td>2025-10-06</td>\n",
       "    </tr>\n",
       "    <tr>\n",
       "      <th>3</th>\n",
       "      <td>11003.0</td>\n",
       "      <td>AW00011003</td>\n",
       "      <td>Christy</td>\n",
       "      <td>Zhu</td>\n",
       "      <td>S</td>\n",
       "      <td>F</td>\n",
       "      <td>2025-10-06</td>\n",
       "    </tr>\n",
       "    <tr>\n",
       "      <th>4</th>\n",
       "      <td>11004.0</td>\n",
       "      <td>AW00011004</td>\n",
       "      <td>Elizabeth</td>\n",
       "      <td>Johnson</td>\n",
       "      <td>S</td>\n",
       "      <td>F</td>\n",
       "      <td>2025-10-06</td>\n",
       "    </tr>\n",
       "  </tbody>\n",
       "</table>\n",
       "</div>"
      ],
      "text/plain": [
       "    cst_id     cst_key cst_firstname cst_lastname cst_marital_status cst_gndr  \\\n",
       "0  11000.0  AW00011000           Jon        Yang                   M        M   \n",
       "1  11001.0  AW00011001        Eugene      Huang                    S        M   \n",
       "2  11002.0  AW00011002         Ruben       Torres                  M        M   \n",
       "3  11003.0  AW00011003       Christy          Zhu                  S        F   \n",
       "4  11004.0  AW00011004     Elizabeth      Johnson                  S        F   \n",
       "\n",
       "  cst_create_date  \n",
       "0      2025-10-06  \n",
       "1      2025-10-06  \n",
       "2      2025-10-06  \n",
       "3      2025-10-06  \n",
       "4      2025-10-06  "
      ]
     },
     "execution_count": 18,
     "metadata": {},
     "output_type": "execute_result"
    }
   ],
   "source": [
    "df.head()"
   ]
  },
  {
   "cell_type": "code",
   "execution_count": 21,
   "id": "4a986902-94cb-4add-af05-f8231f62a401",
   "metadata": {},
   "outputs": [
    {
     "name": "stdout",
     "output_type": "stream",
     "text": [
      "<class 'pandas.core.frame.DataFrame'>\n",
      "RangeIndex: 18494 entries, 0 to 18493\n",
      "Data columns (total 7 columns):\n",
      " #   Column              Non-Null Count  Dtype  \n",
      "---  ------              --------------  -----  \n",
      " 0   cst_id              18490 non-null  float64\n",
      " 1   cst_key             18494 non-null  object \n",
      " 2   cst_firstname       18486 non-null  object \n",
      " 3   cst_lastname        18487 non-null  object \n",
      " 4   cst_marital_status  18487 non-null  object \n",
      " 5   cst_gndr            13916 non-null  object \n",
      " 6   cst_create_date     18490 non-null  object \n",
      "dtypes: float64(1), object(6)\n",
      "memory usage: 1011.5+ KB\n"
     ]
    }
   ],
   "source": [
    "df.info()"
   ]
  },
  {
   "cell_type": "code",
   "execution_count": 25,
   "id": "8f223bae-ceda-4267-97cd-4281fc4ff78f",
   "metadata": {},
   "outputs": [
    {
     "data": {
      "text/html": [
       "<div>\n",
       "<style scoped>\n",
       "    .dataframe tbody tr th:only-of-type {\n",
       "        vertical-align: middle;\n",
       "    }\n",
       "\n",
       "    .dataframe tbody tr th {\n",
       "        vertical-align: top;\n",
       "    }\n",
       "\n",
       "    .dataframe thead th {\n",
       "        text-align: right;\n",
       "    }\n",
       "</style>\n",
       "<table border=\"1\" class=\"dataframe\">\n",
       "  <thead>\n",
       "    <tr style=\"text-align: right;\">\n",
       "      <th></th>\n",
       "      <th>cst_id</th>\n",
       "      <th>cst_key</th>\n",
       "      <th>cst_firstname</th>\n",
       "      <th>cst_lastname</th>\n",
       "      <th>cst_marital_status</th>\n",
       "      <th>cst_gndr</th>\n",
       "      <th>cst_create_date</th>\n",
       "    </tr>\n",
       "  </thead>\n",
       "  <tbody>\n",
       "    <tr>\n",
       "      <th>0</th>\n",
       "      <td>11000.0</td>\n",
       "      <td>AW00011000</td>\n",
       "      <td>Jon</td>\n",
       "      <td>Yang</td>\n",
       "      <td>M</td>\n",
       "      <td>M</td>\n",
       "      <td>2025-10-06</td>\n",
       "    </tr>\n",
       "    <tr>\n",
       "      <th>1</th>\n",
       "      <td>11001.0</td>\n",
       "      <td>AW00011001</td>\n",
       "      <td>Eugene</td>\n",
       "      <td>Huang</td>\n",
       "      <td>S</td>\n",
       "      <td>M</td>\n",
       "      <td>2025-10-06</td>\n",
       "    </tr>\n",
       "    <tr>\n",
       "      <th>2</th>\n",
       "      <td>11002.0</td>\n",
       "      <td>AW00011002</td>\n",
       "      <td>Ruben</td>\n",
       "      <td>Torres</td>\n",
       "      <td>M</td>\n",
       "      <td>M</td>\n",
       "      <td>2025-10-06</td>\n",
       "    </tr>\n",
       "  </tbody>\n",
       "</table>\n",
       "</div>"
      ],
      "text/plain": [
       "    cst_id     cst_key cst_firstname cst_lastname cst_marital_status cst_gndr  \\\n",
       "0  11000.0  AW00011000           Jon        Yang                   M        M   \n",
       "1  11001.0  AW00011001        Eugene      Huang                    S        M   \n",
       "2  11002.0  AW00011002         Ruben       Torres                  M        M   \n",
       "\n",
       "  cst_create_date  \n",
       "0      2025-10-06  \n",
       "1      2025-10-06  \n",
       "2      2025-10-06  "
      ]
     },
     "execution_count": 25,
     "metadata": {},
     "output_type": "execute_result"
    }
   ],
   "source": [
    "df.head(3)"
   ]
  },
  {
   "cell_type": "code",
   "execution_count": null,
   "id": "b6abd600-a30e-4db4-b57e-c83fd16e4d6f",
   "metadata": {},
   "outputs": [],
   "source": []
  }
 ],
 "metadata": {
  "kernelspec": {
   "display_name": "Python 3 (ipykernel)",
   "language": "python",
   "name": "python3"
  },
  "language_info": {
   "codemirror_mode": {
    "name": "ipython",
    "version": 3
   },
   "file_extension": ".py",
   "mimetype": "text/x-python",
   "name": "python",
   "nbconvert_exporter": "python",
   "pygments_lexer": "ipython3",
   "version": "3.12.7"
  }
 },
 "nbformat": 4,
 "nbformat_minor": 5
}
